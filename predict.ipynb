{
 "cells": [
  {
   "cell_type": "markdown",
   "metadata": {},
   "source": [
    "## Prediction for Bank Customer Churn Modeling\n",
    "<img src=\"https://miro.medium.com/max/1024/1*YRq10sAcj2ScV2TirdSKBg.png\" height =500 width=500></imag>\n"
   ]
  },
  {
   "cell_type": "markdown",
   "metadata": {},
   "source": [
    "### Load Libraries"
   ]
  },
  {
   "cell_type": "code",
   "execution_count": 1,
   "metadata": {},
   "outputs": [
    {
     "name": "stderr",
     "output_type": "stream",
     "text": [
      "C:\\Users\\MacBook\\.conda\\envs\\AI\\lib\\site-packages\\sklearn\\externals\\joblib\\__init__.py:15: FutureWarning: sklearn.externals.joblib is deprecated in 0.21 and will be removed in 0.23. Please import this functionality directly from joblib, which can be installed with: pip install joblib. If this warning is raised when loading pickled models, you may need to re-serialize those models with scikit-learn 0.21+.\n",
      "  warnings.warn(msg, category=FutureWarning)\n"
     ]
    }
   ],
   "source": [
    "#import python libraries\n",
    "import numpy as np\n",
    "from sklearn.externals import joblib"
   ]
  },
  {
   "cell_type": "markdown",
   "metadata": {},
   "source": [
    "### Load Machine Learning Model"
   ]
  },
  {
   "cell_type": "code",
   "execution_count": 2,
   "metadata": {},
   "outputs": [
    {
     "data": {
      "text/plain": [
       "GradientBoostingClassifier(ccp_alpha=0.0, criterion='friedman_mse', init=None,\n",
       "                           learning_rate=0.05, loss='deviance', max_depth=5,\n",
       "                           max_features='sqrt', max_leaf_nodes=None,\n",
       "                           min_impurity_decrease=0.0, min_impurity_split=None,\n",
       "                           min_samples_leaf=1, min_samples_split=2,\n",
       "                           min_weight_fraction_leaf=0.0, n_estimators=50,\n",
       "                           n_iter_no_change=None, presort='deprecated',\n",
       "                           random_state=None, subsample=1.0, tol=0.0001,\n",
       "                           validation_fraction=0.1, verbose=0,\n",
       "                           warm_start=False)"
      ]
     },
     "execution_count": 2,
     "metadata": {},
     "output_type": "execute_result"
    }
   ],
   "source": [
    "# Load the model we trained previously\n",
    "model = joblib.load('customer_churn_mlmodel.pkl')\n",
    "model"
   ]
  },
  {
   "cell_type": "markdown",
   "metadata": {},
   "source": [
    "### Predict Customer Churn Using Model"
   ]
  },
  {
   "cell_type": "code",
   "execution_count": 8,
   "metadata": {},
   "outputs": [
    {
     "name": "stdout",
     "output_type": "stream",
     "text": [
      "[0]\n"
     ]
    }
   ],
   "source": [
    "# Run the model and make a prediction for each house in the homes_to_value array\n",
    "\n",
    "check_customer1 = [[ \n",
    "608 ,       # 'CreditScore'\n",
    "0,          # 'Gender'\n",
    "41,         # 'Age'\n",
    "1,          # 'Tenure'\n",
    "83807.86,   # 'Balance'\n",
    "1,          # 'NumOfProducts'\n",
    "0,          # 'HasCrCard'\n",
    "1,          # 'IsActiveMember'\n",
    "112542.58,  # 'EstimatedSalary'\n",
    "0,          # 'Geography_0'\n",
    "0,          # 'Geography_1' \n",
    "1           # 'Geography_2'\n",
    "]]\n",
    "\n",
    "check_customer2 = [[ \n",
    "528,       # 'CreditScore'\n",
    "1,          # 'Gender'\n",
    "31,         # 'Age'\n",
    "6,          # 'Tenure'\n",
    "102016.72,   # 'Balance'\n",
    "2,          # 'NumOfProducts'\n",
    "0,          # 'HasCrCard'\n",
    "0,          # 'IsActiveMember'\n",
    "80181.12,  # 'EstimatedSalary'\n",
    "1,          # 'Geography_0'\n",
    "0,          # 'Geography_1' \n",
    "0           # 'Geography_2'\n",
    "]]\n",
    "\n",
    "check_customer3 = [[ \n",
    "616,       # 'CreditScore'\n",
    "0,          # 'Gender'\n",
    "45,         # 'Age'\n",
    "3,          # 'Tenure'\n",
    "143129.41,   # 'Balance'\n",
    "2,          # 'NumOfProducts'\n",
    "0,          # 'HasCrCard'\n",
    "1,          # 'IsActiveMember'\n",
    "64327.26,  # 'EstimatedSalary'\n",
    "0,          # 'Geography_0'\n",
    "1,          # 'Geography_1' \n",
    "0           # 'Geography_2'\n",
    "]]\n",
    "\n",
    "check_customer4 = [[ \n",
    "616,       # 'CreditScore'\n",
    "0,          # 'Gender'\n",
    "45,         # 'Age'\n",
    "3,          # 'Tenure'\n",
    "1431.41,   # 'Balance'\n",
    "2,          # 'NumOfProducts'\n",
    "0,          # 'HasCrCard'\n",
    "1,          # 'IsActiveMember'\n",
    "643.26,  # 'EstimatedSalary'\n",
    "0,          # 'Geography_0'\n",
    "1,          # 'Geography_1' \n",
    "0           # 'Geography_2'\n",
    "]]\n",
    "\n",
    "\n",
    "predicted_value = model.predict(check_customer4)\n",
    "print(predicted_value)"
   ]
  },
  {
   "cell_type": "code",
   "execution_count": 9,
   "metadata": {},
   "outputs": [
    {
     "name": "stdout",
     "output_type": "stream",
     "text": [
      "The customer will not exit from our company\n"
     ]
    }
   ],
   "source": [
    "if (predicted_value[0] == 1):\n",
    "    print(\"The customer will be exit from our company. So give more offer\")\n",
    "else:\n",
    "    print(\"The customer will not exit from our company\")"
   ]
  }
 ],
 "metadata": {
  "kernelspec": {
   "display_name": "Python 3",
   "language": "python",
   "name": "python3"
  },
  "language_info": {
   "codemirror_mode": {
    "name": "ipython",
    "version": 3
   },
   "file_extension": ".py",
   "mimetype": "text/x-python",
   "name": "python",
   "nbconvert_exporter": "python",
   "pygments_lexer": "ipython3",
   "version": "3.6.6"
  }
 },
 "nbformat": 4,
 "nbformat_minor": 4
}
